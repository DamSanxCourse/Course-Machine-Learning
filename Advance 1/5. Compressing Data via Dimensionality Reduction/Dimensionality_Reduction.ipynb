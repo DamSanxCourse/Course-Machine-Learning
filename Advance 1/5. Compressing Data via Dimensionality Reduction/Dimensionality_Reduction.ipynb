{
 "cells": [
  {
   "cell_type": "markdown",
   "metadata": {},
   "source": [
    "# <center> Nén Dữ Liệu Thông Qua Giảm Chiều Dữ Liệu</center>\n",
    " <center>-Compressing Data via Dimentionality Reduction-</center>"
   ]
  },
  {
   "cell_type": "markdown",
   "metadata": {},
   "source": [
    "## Giới thiệu"
   ]
  },
  {
   "cell_type": "markdown",
   "metadata": {},
   "source": [
    "**Giảm chiều dữ liệu** (dimentionality reduction) là một kỹ thuật quan trọng trong machine learning, trong thực tế các **vector đặc trưng** (feature vectors) có thể có số chiều rất lớn, tới vài nghìn. Đồng thời, lượng điểm dữ liệu cũng rất lớn. Điều đó sẽ gây khó khăn cho việc lưu trữ và tính toán. Vì vậy, đây là một bước quan trọng trong nhiều bài toán, và cũng được xem là một phương pháp **nén dữ liệu** (compressing data)\n",
    "\n",
    "Như ở chương trước, chúng ta có nói về các phương pháp được sử dụng để giảm vấn đề **quá khớp** (overfitting) như việc trừng phạt lên sự phức tạp thông qua phương pháp **chính quy hóa** (regularization) hay hướng **lựa chọn đặc trưng** (feature selection) trong phương pháp **giảm chiều** (dimentionality reduction) của dữ liệu.\n",
    "\n",
    "Hôm nay ta sẽ tiếp tục tìm hiểu một hướng khác của phương pháp **giảm chiều** đó là **trích xuất đặc trưng** (feature extraction)"
   ]
  },
  {
   "cell_type": "markdown",
   "metadata": {},
   "source": [
    "## Trích xuất đặc trưng (feature extraction)"
   ]
  },
  {
   "cell_type": "markdown",
   "metadata": {},
   "source": [
    "Tương tự như **lựa chọn đặc trưng** (feature selection), đây cũng là một kỹ thuật dùng để giảm số lượng đặc trưng / số chiều của tập dữ liệu. Sự khác biệt giữa feature selection và feature extraction là ta vẫn sẽ duy trì các features gốc khi sử dụng các thuật toán feature selection, còn đối với feature extraction, ta sẽ chuyển đổi hoặc chiếu dữ liệu của ta vào một không gian features mới. \n",
    "Có 3 thuật toán được sử dụng trong feature extraction:\n",
    "- Principal component analysis (PCA)\n",
    "- Linear discriminant analysis (LDA) \n",
    "- Kernel principal component analysis (KPCA)"
   ]
  },
  {
   "cell_type": "markdown",
   "metadata": {},
   "source": [
    "## Principal component analysis (PCA)"
   ]
  },
  {
   "cell_type": "markdown",
   "metadata": {},
   "source": [
    "![](https://github.com/HuynhHoa99/MachineLearningAlgorithm/blob/master/image/pca1.PNG?raw=true)\n",
    "\n",
    "Cùng là 1 chú lạc đà, tuy nhiên với các cách nhìn khác nhau (trục thông tin), chúng ta lại có những cách thu nhận thông tin khác nhau và cho ta những kết luận khác nhau."
   ]
  },
  {
   "cell_type": "markdown",
   "metadata": {},
   "source": [
    "PCA là việc ta tìm một không gian mới (với số chiều nhỏ hơn không gian cũ), các trục tọa độ trong không gian mới được xây dựng sao cho trên mỗi trục, độ biến thiên của dữ liệu trên đó là lớn nhất có thể.\n",
    "Ví dụ minh họa:\n",
    "\n",
    "![](https://github.com/HuynhHoa99/MachineLearningAlgorithm/blob/master/image/pca2.PNG?raw=true)"
   ]
  },
  {
   "cell_type": "markdown",
   "metadata": {},
   "source": [
    "### Cở sở toán học"
   ]
  },
  {
   "cell_type": "markdown",
   "metadata": {},
   "source": [
    "##### Kỳ vọng (mean)\n",
    "- Là giá trị mong muốn, nó đơn giản là trung bình cộng của toàn bộ các giá trị\n",
    "\n",
    "Cho $N$ giá trị $x_1, x_2, ..., x_N$.\n",
    "\n",
    "$$\\bar{x} = \\frac{1}{N} \\sum_{n=1}^{N}x_n$$\n",
    "\n",
    "\n",
    "##### Phương sai (variance)\n",
    "- Là trung bình cộng của bình phương khoảng cách từ mỗi điểm tới kỳ vọng, phương sai càng nhỏ thì các điểm dữ liệu càng gần với kỳ vọng, tức các điểm dữ liệu càng giống nhau. Phương sai càng lớn thì ta nói dữ liệu càng có tính phân tán\n",
    "\n",
    "$$\\sigma^2 = \\frac{1}{N-1} \\sum_{n=1}^{N}(x_n-\\bar{x})^2$$\n",
    "\n",
    "\n",
    "##### Hiệp phương sai (covariance)\n",
    "- Là độ đo sự biến thiên cùng nhau của hai biến ngẫu nhiên (phân biệt với phương sai - đo mức độ biến thiên của một biến). Nếu 2 biến có xu hướng thay đổi cùng nhau (nghĩa là, khi một biến có giá trị cao hơn giá trị kỳ vòng thì biến kia có xu hướng cũng cao hơn giá trị kỳ vọng), thì hiệp phương sai giữa hai biến này có giá trị dương. Mặt khác, nếu một biến nằm trên giá trị kì vọng còn biến kia có xu hướng nằm dưới giá trị kì vọng, thì hiệp phương sai của hai biến này có giá trị âm. Nếu hai biến này độc lập với nhau thì giá trị bằng 0\n",
    "\n",
    "$$COV(X, Y) = \\frac{\\sum_{n=1}^{N}(X_n - \\bar{X})(Y_n - \\bar{Y})}{N}$$\n",
    "\n",
    "##### Ma trận hiệp phương sai\n",
    "- Cho N điểm dữ liệu được biểu diễn bởi các vector cột $x_1, ..., x_N$, khi đó, vector kỳ vọng và ma trận hiệp phương sai của toàn bộ dữ liệu được định nghĩa là:\n",
    "\n",
    "$$\\bar{x} = \\frac{1}{N} \\sum_{n=1}^{N}x_n$$\n",
    "\n",
    "$$S = \\frac{1}{N} \\sum_{n=1}^{N}(x_n - \\bar{x})(x_n - \\bar{x})^T = \\frac{1}{N}\\hat{X}\\hat{X}^T$$\n",
    "\n",
    "- Ma trận hiệp phương sai là một ma trận đối xứng, hơn nữa, nó là một ma trận nửa xác định dương.\n",
    "- Mọi phần tử trên đường chéo của ma trận hiệp phương sai là các số không âm. Chúng cũng chính là phương sai của từng chiều của dữ liệu.\n",
    "- Các phần tử ngoài đường chéo $S_{ịj}, i \\ne j$ thể hiện sự tương quan giữa thành phần thứ i và thứ j của dữ liệu, còn được gọi là hiệp phương sai. Giá trị này có thể dương, âm hoặc bằng 0. Khi nó bằng 0, ta nói rằng hai thành phần i, j trong dữ liệu là không tương quan (uncorrelated).\n",
    "- Nếu ma trận hiệp phương sai là ma trận đường chéo, ta có dữ liệu hoàn toàn không tương quan giữa các chiều.\n",
    "\n",
    "![](https://github.com/HuynhHoa99/MachineLearningAlgorithm/blob/master/image/pca3.PNG?raw=true)\n",
    "\n",
    "##### Trị riêng (eigenvalue), vector riêng(eigenvector) của covariance matrix\n",
    "Cho một ma trận vuông $A \\in R^{n \\times n}$, nếu số vô hướng $\\lambda$ và vector $x \\ne 0 \\in R^n$ thoả mãn:\n",
    "\n",
    "$$Ax = \\lambda x$$\n",
    "\n",
    "thì $\\lambda$ được gọi là một trị riêng của $A$ và $x$ được gọi là vector riêng tương ứng với trị riêng đó.\n",
    "\n",
    "- Trị riêng là nghiệm của phương trình đặc trưng $$det(A - \\lambda I) = 0$$\n",
    "- Một trị riêng có thể có nhiều vector riêng\n",
    "- Mỗi vector riêng chỉ ứng với một trị riêng duy nhất\n",
    "- Nếu $x$ là một vector riêng của A ứng với $\\lambda$ thì $kx, k \\ne 0$ cũng là vector riêng ứng với trị riêng đó\n",
    "- Mọi ma trận vuông bậc n đều có n trị riêng (kể cả lặp) và có thể là các số phức.\n",
    "- Với ma trận đối xứng, tất cả các trị riêng đều là các số thực.\n",
    "- Với ma trận xác định dương, tất cả các trị riêng của nó đều là các số thực dương. Với ma trận nửa xác định dương, tất cả các trị riêng của nó đều là các số thực không âm.\n",
    "\n",
    "##### Phương pháp giải tìm trị riêng, vector riêng\n",
    "B1: giải phương trình đặc trưng để tìm trị riêng: $$det(A - \\lambda I) = 0$$\n",
    "\n",
    "B2: giải hệ phương trình tìm vector riêng $u_i$ tương ứng với trị riêng $\\lambda_i$ $$(A - \\lambda I)u = 0$$"
   ]
  },
  {
   "cell_type": "markdown",
   "metadata": {},
   "source": [
    "### Thuật toán PCA"
   ]
  },
  {
   "cell_type": "markdown",
   "metadata": {},
   "source": [
    "PCA về cơ bản là một kỹ thuật giảm kích thước đơn giản, biến đổi các cột của bộ dữ liệu thành một tập các đặc trưng mới. Nó thực hiện điều này bằng cách tìm một tập hợp các hướng mới (như trục X và Y) giải thích sự biến đổi tối đa trong dữ liệu.\n",
    "\n",
    "Trục tọa độ hệ thống mới này được gọi là Principal Components (PCs). Các phép chiếu của dữ liệu gốc trên bộ trục tọa độ (PC) mới đóng vai trò là bộ dữ liệu được chuyển đổi mới.\n",
    "\n",
    "Nhưng tại sao lại tính toán PCs?\n",
    "\n",
    "Vì thông tin chứa trong một cột dữ liệu (biến) là lượng phương sai mà nó chứa. Nó sẽ giải thích hiệu quả thông tin khổng lồ có trong dữ liệu gốc thành số cột ít hơn\n",
    "\n",
    "Các bước của thuật toán PCA\n",
    "##### 1. Chuẩn hóa tập dữ liệu d chiều\n",
    "##### 2. Tìm ma trận hiệp phương sai (covariance matrix)\n",
    "$$S =  \\frac{1}{N}\\hat{X}\\hat{X}^T$$\n",
    "\n",
    "##### 3. Tìm các trị riêng và vector riêng của ma trận này, sắp xếp chúng theo thứ tự giảm dần của trị riêng.\n",
    "$$\\lambda_1 \\ge \\lambda_2 \\ge ... \\ge \\lambda_n$$\n",
    "$$u_1, u_2, ..., u_n$$\n",
    "\n",
    "- Các vector $u_i$ là độc lập tuyến tính, và chính là các trục của không gian mới\n",
    "\n",
    "##### 4. Chọn $K$ vector riêng ứng với $K$ trị riêng lớn nhất để xây dựng ma trận $U_K$. $K$ vectors này, còn được gọi là các thành phần chính (principal component), tạo thành một không gian con gần với phân bố của dữ liệu ban đầu đã chuẩn hoá. \n",
    "\n",
    "##### 5. Xây dựng ma trận chiếu ( projection matrix) W từ 'top' $K$ vector riêng\n",
    "##### 6. Chiếu dữ liệu ban đầu đã chuẩn hoá $\\hat{X}$ thông qua W để tạo thành không gian đặc trưng mới K chiều. Dữ liệu mới chính là toạ độ của các điểm dữ liệu trên không gian mới $$Z = U_K^T\\hat X$$"
   ]
  },
  {
   "cell_type": "markdown",
   "metadata": {},
   "source": [
    "![](https://github.com/HuynhHoa99/MachineLearningAlgorithm/blob/master/image/pca4.PNG?raw=true)"
   ]
  },
  {
   "cell_type": "code",
   "execution_count": 3,
   "metadata": {},
   "outputs": [],
   "source": [
    "import pandas as pd\n",
    "import numpy as np\n",
    "import matplotlib.pyplot as plt\n",
    "from sklearn.model_selection import train_test_split\n",
    "from sklearn.preprocessing import StandardScaler"
   ]
  },
  {
   "cell_type": "code",
   "execution_count": 4,
   "metadata": {},
   "outputs": [],
   "source": [
    "df_wine = pd.read_csv('https://archive.ics.uci.edu/ml/machine-learning-databases/wine/wine.data', header=None)"
   ]
  },
  {
   "cell_type": "code",
   "execution_count": 5,
   "metadata": {},
   "outputs": [],
   "source": [
    "X, y = df_wine.iloc[:, 1:].values, df_wine.iloc[:, 0].values\n",
    "X_train, X_test, y_train, y_test = train_test_split(X, y, test_size=0.3, stratify=y, random_state=0)\n",
    "# standardize the features\n",
    "sc = StandardScaler()\n",
    "X_train_std = sc.fit_transform(X_train)\n",
    "X_test_std = sc.transform(X_test)"
   ]
  },
  {
   "cell_type": "code",
   "execution_count": 6,
   "metadata": {},
   "outputs": [
    {
     "name": "stdout",
     "output_type": "stream",
     "text": [
      "\n",
      "Eigenvalues \n",
      "[4.84274532 2.41602459 1.54845825 0.96120438 0.84166161 0.6620634\n",
      " 0.51828472 0.34650377 0.3131368  0.10754642 0.21357215 0.15362835\n",
      " 0.1808613 ]\n"
     ]
    }
   ],
   "source": [
    "cov_mat = np.cov(X_train_std.T)\n",
    "eigen_vals, eigen_vecs = np.linalg.eig(cov_mat)\n",
    "print('\\nEigenvalues \\n%s' % eigen_vals)"
   ]
  },
  {
   "cell_type": "markdown",
   "metadata": {
    "scrolled": true
   },
   "source": [
    "Trước khi đi tới bước chọn K vector riêng, ta sẽ vẽ một biểu đồ thể hiện tỉ lệ giải thích phương sai (variance explained ratios) của trị riêng. Công thức của nó là: $$\\text{Explained variance ratio} = \\frac{\\lambda_i}{\\sum_{i=1}^n \\lambda_i}$$"
   ]
  },
  {
   "cell_type": "code",
   "execution_count": 7,
   "metadata": {},
   "outputs": [
    {
     "data": {
      "image/png": "[encoded data removed]",
      "text/plain": [
       "<Figure size 432x288 with 1 Axes>"
      ]
     },
     "metadata": {
      "needs_background": "light"
     },
     "output_type": "display_data"
    }
   ],
   "source": [
    "tot = sum(eigen_vals)\n",
    "var_exp = [(i / tot) for i in\n",
    "sorted(eigen_vals, reverse=True)]\n",
    "cum_var_exp = np.cumsum(var_exp)\n",
    "\n",
    "plt.bar(range(1,14), var_exp, alpha=0.5, align='center',\n",
    "label='Individual explained variance')\n",
    "plt.step(range(1,14), cum_var_exp, where='mid',\n",
    "label='Cumulative explained variance')\n",
    "plt.ylabel('Explained variance ratio')\n",
    "plt.xlabel('Principal component index')\n",
    "plt.legend(loc='best')\n",
    "plt.tight_layout()\n",
    "plt.show()"
   ]
  },
  {
   "cell_type": "code",
   "execution_count": 8,
   "metadata": {},
   "outputs": [],
   "source": [
    "# Make a list of (eigenvalue, eigenvector) tuples\n",
    "eigen_pairs = [(np.abs(eigen_vals[i]), eigen_vecs[:, i]) for i in range(len(eigen_vals))]\n",
    "# Sort the (eigenvalue, eigenvector) tuples from high to low\n",
    "eigen_pairs.sort(key=lambda k: k[0], reverse=True)"
   ]
  },
  {
   "cell_type": "code",
   "execution_count": 9,
   "metadata": {},
   "outputs": [
    {
     "name": "stdout",
     "output_type": "stream",
     "text": [
      "Matrix W:\n",
      " [[-0.13724218  0.50303478]\n",
      " [ 0.24724326  0.16487119]\n",
      " [-0.02545159  0.24456476]\n",
      " [ 0.20694508 -0.11352904]\n",
      " [-0.15436582  0.28974518]\n",
      " [-0.39376952  0.05080104]\n",
      " [-0.41735106 -0.02287338]\n",
      " [ 0.30572896  0.09048885]\n",
      " [-0.30668347  0.00835233]\n",
      " [ 0.07554066  0.54977581]\n",
      " [-0.32613263 -0.20716433]\n",
      " [-0.36861022 -0.24902536]\n",
      " [-0.29669651  0.38022942]]\n"
     ]
    }
   ],
   "source": [
    "w = np.hstack((eigen_pairs[0][1][:, np.newaxis], eigen_pairs[1][1][:, np.newaxis]))\n",
    "print('Matrix W:\\n', w)"
   ]
  },
  {
   "cell_type": "markdown",
   "metadata": {},
   "source": [
    "Matrix W chính là ma trận giúp ta chuyển đổi dữ liệu D chiều sang K chiều với K $\\leq$ D\n",
    "- Vector: $x' = xW$\n",
    "- Matrix: $X' = XW$"
   ]
  },
  {
   "cell_type": "code",
   "execution_count": 10,
   "metadata": {},
   "outputs": [
    {
     "name": "stdout",
     "output_type": "stream",
     "text": [
      "Từ 13 chiều còn lại 2 chiều\n"
     ]
    }
   ],
   "source": [
    "x_origin = X_train_std[0].shape[0]\n",
    "x_new = X_train_std[0].dot(w).shape[0]\n",
    "print('Từ', x_origin, 'chiều còn lại', x_new, 'chiều')"
   ]
  },
  {
   "cell_type": "code",
   "execution_count": 11,
   "metadata": {},
   "outputs": [],
   "source": [
    "X_train_pca = X_train_std.dot(w)"
   ]
  },
  {
   "cell_type": "code",
   "execution_count": 12,
   "metadata": {},
   "outputs": [
    {
     "data": {
      "image/png": "[encoded data removed]",
      "text/plain": [
       "<Figure size 432x288 with 1 Axes>"
      ]
     },
     "metadata": {
      "needs_background": "light"
     },
     "output_type": "display_data"
    }
   ],
   "source": [
    "colors = ['r', 'b', 'g']\n",
    "markers = ['s', 'x', 'o']\n",
    "for l, c, m in zip(np.unique(y_train), colors, markers):\n",
    "    plt.scatter(X_train_pca[y_train==l, 0], X_train_pca[y_train==l, 1], c=c, label=l, marker=m)\n",
    "plt.xlabel('PC 1')\n",
    "plt.ylabel('PC 2')\n",
    "plt.legend(loc='lower left')\n",
    "plt.tight_layout()\n",
    "plt.show()"
   ]
  },
  {
   "cell_type": "markdown",
   "metadata": {},
   "source": [
    "- Dữ liệu được trải rộng hơn ở trục x - thành phần chính đầu tiên (the first principal component)\n",
    "- Dữ liệu được trải rộng it hơn ở trục y - thành phần chính thứ hai (the second principal component)"
   ]
  },
  {
   "cell_type": "code",
   "execution_count": 13,
   "metadata": {},
   "outputs": [],
   "source": [
    "from matplotlib.colors import ListedColormap\n",
    "def plot_decision_regions(X, y, classifier, resolution=0.02):\n",
    "\n",
    "    # setup marker generator and color map\n",
    "    markers = ('s', 'x', 'o', '^', 'v')\n",
    "    colors = ('red', 'blue', 'lightgreen', 'gray', 'cyan')\n",
    "    cmap = ListedColormap(colors[:len(np.unique(y))])\n",
    "\n",
    "    # plot the decision surface\n",
    "    x1_min, x1_max = X[:, 0].min() - 1, X[:, 0].max() + 1\n",
    "    x2_min, x2_max = X[:, 1].min() - 1, X[:, 1].max() + 1\n",
    "    xx1, xx2 = np.meshgrid(np.arange(x1_min, x1_max, resolution), np.arange(x2_min, x2_max, resolution))\n",
    "    Z = classifier.predict(np.array([xx1.ravel(), xx2.ravel()]).T)\n",
    "    Z = Z.reshape(xx1.shape)\n",
    "    plt.contourf(xx1, xx2, Z, alpha=0.4, cmap=cmap)\n",
    "    plt.xlim(xx1.min(), xx1.max())\n",
    "    plt.ylim(xx2.min(), xx2.max())\n",
    "\n",
    "    # plot examples by class\n",
    "    for idx, cl in enumerate(np.unique(y)):\n",
    "        plt.scatter(x=X[y == cl, 0], y=X[y == cl, 1], alpha=0.6, color=cmap(idx), edgecolor='black', marker=markers[idx], label=cl)"
   ]
  },
  {
   "cell_type": "code",
   "execution_count": 14,
   "metadata": {},
   "outputs": [
    {
     "data": {
      "image/png": "[encoded data removed]",
      "text/plain": [
       "<Figure size 432x288 with 1 Axes>"
      ]
     },
     "metadata": {
      "needs_background": "light"
     },
     "output_type": "display_data"
    }
   ],
   "source": [
    "from sklearn.linear_model import LogisticRegression\n",
    "from sklearn.decomposition import PCA\n",
    "# initializing the PCA transformer and\n",
    "# logistic regression estimator:\n",
    "pca = PCA(n_components=2)\n",
    "lr = LogisticRegression(multi_class='ovr', random_state=1, solver='lbfgs')\n",
    "# dimensionality reduction:\n",
    "X_train_pca = pca.fit_transform(X_train_std)\n",
    "X_test_pca = pca.transform(X_test_std)\n",
    "# fitting the logistic regression model on the reduced dataset:\n",
    "lr.fit(X_train_pca, y_train)\n",
    "plot_decision_regions(X_train_pca, y_train, classifier=lr)\n",
    "plt.xlabel('PC 1')\n",
    "plt.ylabel('PC 2')\n",
    "plt.legend(loc='lower left')\n",
    "plt.tight_layout()\n",
    "plt.show()"
   ]
  },
  {
   "cell_type": "code",
   "execution_count": 16,
   "metadata": {},
   "outputs": [
    {
     "name": "stdout",
     "output_type": "stream",
     "text": [
      "(124, 13) (124, 2)\n"
     ]
    }
   ],
   "source": [
    "print(X_train_std.shape, X_train_pca.shape)"
   ]
  },
  {
   "cell_type": "code",
   "execution_count": 15,
   "metadata": {},
   "outputs": [
    {
     "data": {
      "image/png": "[encoded data removed]",
      "text/plain": [
       "<Figure size 432x288 with 1 Axes>"
      ]
     },
     "metadata": {
      "needs_background": "light"
     },
     "output_type": "display_data"
    }
   ],
   "source": [
    "plot_decision_regions(X_test_pca, y_test, classifier=lr)\n",
    "plt.xlabel('PC1')\n",
    "plt.ylabel('PC2')\n",
    "plt.legend(loc='lower left')\n",
    "plt.tight_layout()\n",
    "plt.show()"
   ]
  },
  {
   "cell_type": "markdown",
   "metadata": {},
   "source": [
    "## Linear discriminant analysis (LDA)"
   ]
  },
  {
   "cell_type": "markdown",
   "metadata": {},
   "source": [
    "### Giới thiệu"
   ]
  },
  {
   "cell_type": "markdown",
   "metadata": {},
   "source": [
    "Ở thuật toán PCA trên, đó là một phương pháp **unsupervised learning**, tức là nó chỉ sử dụng vector biểu diễn dữ liệu, không sử dụng labels. Trong bài toán **classification**, điển hình nhất là phương pháp **suppervised learning**, việc sử dụng labels sẽ mang lại kết quả phân loại tốt hơn.\n",
    "\n",
    "Nhắc lại một lần nữa, PCA là phương pháp giảm chiều dữ liệu sao cho lượng thông tin của dữ liệu (thể hiện ở tổng phương sai) được giữ lại nhiều nhất. Tuy nhiên, trong nhiều trường hợp, ta không cần giữ lại lượng thông tin lớn nhất mà chỉ cần giữ lại lượng thông tin cần thiết cho riêng mỗi bài toán. Ta xem ví dụ sau:"
   ]
  },
  {
   "cell_type": "markdown",
   "metadata": {},
   "source": [
    "![](https://github.com/HuynhHoa99/MachineLearningAlgorithm/blob/master/image/lda1.png?raw=true)"
   ]
  },
  {
   "cell_type": "markdown",
   "metadata": {},
   "source": [
    "Giả sử ta có một tập dữ liệu gồm 2 lớp, nhiều chiều. Ta sẽ thực hiện giảm chiều của tập dữ liệu này xuống 1 chiều bằng cách ta chiếu chúng lên một đường thẳng. Ở đây ta thực hiện 2 cách chiếu, nếu dùng PCA, thì phương của $d_1$ gần giống với thành phần chính thứ 1 của dữ liệu, phương của $d_2$ gần giống với thành phần chính tiếp theo. Các đường cong hình chuông thể hiện xấp xỉ phân bố xác suất của dữ liệu hình chiếu trong mỗi class.\n",
    "\n",
    "Theo PCA, khi giảm về một chiều, ta sẽ chọn giảm chiều theo hướng $d_1$. Các điểm màu đỏ và xanh bị chồng lấn lên nhau, khiến cho việc phân loại dữ liệu là không khả thi trên đường thẳng này. Ngược lại nếu chiếu theo cách $d_2$, việc classify sẽ trở nên dễ dàng và chính xác hơn. \n",
    "\n",
    "Việc phân loại một điểm dữ liệu mới sẽ được xác định bằng cách so sánh hình chiếu của nó lên $d_2$ với điểm màu xanh lục này.\n",
    "\n",
    "$\\implies$ Qua ví dụ trên ta thấy, **không phải việc giữ lại thông tin nhiều nhất sẽ luôn mang lại kết quả tốt nhất**\n"
   ]
  },
  {
   "cell_type": "markdown",
   "metadata": {},
   "source": [
    "**Linear Discriminant Analysis** (LDA) được ra đời nhằm giải quyết vấn đề này. LDA là một phương pháp giảm chiều dữ liệu cho bài toán classification. LDA có thể được coi là một phương pháp giảm chiều dữ liệu (dimensionality reduction), và cũng có thể được coi là một phương pháp phân lớp (classification), và cũng có thể được áp dụng đồng thời cho cả hai, tức là giảm chiều dữ liệu sao cho việc phân lớp hiệu quả nhất. \n",
    "\n",
    "Số chiều của dữ liệu mới là nhỏ hơn hoặc bằng $C - 1$ trong đó $C$ là số lượng classes. Từ **Discriminant** được hiểu là những thông tin đặc trưng cho mỗi class, khiến nó không bị lẫn với các classes khác. Từ **Linear** được dùng vì cách giảm chiều dữ liệu được thực hiện bởi một ma trận chiếu (projection matrix), là một phép biến đổi tuyến tính (linear transform)"
   ]
  },
  {
   "cell_type": "markdown",
   "metadata": {},
   "source": [
    "### Ý tưởng cơ bản"
   ]
  },
  {
   "cell_type": "markdown",
   "metadata": {},
   "source": [
    "Quay lại hình trên, ta thấy độ rộng của mỗi đường hình chuông thể hiện độ lệch chuẩn của dữ liệu. Dữ liệu càng tập trung thì độ lệch chuẩn càng nhỏ, càng phân tán thì độ lệch chuẩn càng cao. Khi được chiếu lên $d_1$, dữ liệu của hai classes bị phân tán quá nhiều, khiến cho chúng bị trộn lẫn vào nhau. Khi được chiếu lên $d_2$, mỗi classes đều có độ lệch chuẩn nhỏ, khiến cho dữ liệu trong từng class tập trung hơn, dẫn đến kết quả tốt hơn.\n",
    "\n",
    "Tuy nhiên, việc độ lệch chuẩn nhỏ trong mỗi class chưa đủ để đảm bảo độ Discriminant của dữ liệu. Ta xem ví dụ sau:"
   ]
  },
  {
   "cell_type": "markdown",
   "metadata": {},
   "source": [
    "![](https://github.com/HuynhHoa99/MachineLearningAlgorithm/blob/master/image/lda2.png?raw=true)"
   ]
  },
  {
   "cell_type": "markdown",
   "metadata": {},
   "source": [
    "Ở đây,\n",
    "- $(m_1 - m_2)^2$ là khoảng cách giữa 2 kỳ vọng (mean)\n",
    "- $s_1^2 + s_2^2$ là tổng phương sai của dữ liệu\n",
    "\n",
    "a) Khoảng cách giữa hai kỳ vọng là lớn nhưng phương sai trong mỗi class cũng lớn, khiến cho hai phân phối chồng lấn lên nhau (phần màu xám). \n",
    "\n",
    "b) Phương sai cho mỗi class là rất nhỏ nhưng hai kỳ vọng quá gần nhau, khiến khó phân biệt 2 class. \n",
    "\n",
    "c) Khi phương sai đủ nhỏ và khoảng cách giữa hai kỳ vọng đủ lớn, ta thấy rằng dữ liệu discriminant hơn.\n",
    "\n",
    "Độ lệch chuẩn nhỏ thể hiện việc dữ liệu ít phân tán. Điều này có nghĩa là dữ liệu trong mỗi class có xu hướng giống nhau. Hai phương sai $s_1^2, s_2^2$ còn được gọi là các **within-class scatter**.\n",
    "\n",
    "Khoảng cách giữa các kỳ vọng là lớn chứng tỏ rằng hai classes nằm xa nhau, tức dữ liệu giữa các classes là khác nhau nhiều. Bình phương khoảng cách giữa hai kỳ vọng $(m_1 - m_2)^2$ còn được gọi là **between-class scatter**.\n",
    "\n",
    "$\\implies$ Hai classes được gọi là discriminative nếu hai class đó cách xa nhau (**between-class scatter** lớn) và dữ liệu trong mỗi class có xu hướng giống nhau (**within-class scatter** nhỏ). **Linear Discriminant Analysis** là thuật toán đi tìm một phép chiếu sao cho tỉ lệ giữa **between-class scatter** và **within-class scatter** lớn nhất có thể."
   ]
  },
  {
   "cell_type": "markdown",
   "metadata": {},
   "source": [
    "### Xây dựng hàm mục tiêu"
   ]
  },
  {
   "cell_type": "markdown",
   "metadata": {},
   "source": [
    "Giả sử ta có $N$ điểm dữ liệu $x_1, x_2, ..., x_N$ trong đó $N_1 < n$ điểm đầu tiên thuộc class 1, $N_2 = N - N_1$ điểm còn lại thuộc class 2. Gọi \n",
    "- $C_1$ là index của các điểm thuộc class 1, \n",
    "- $C_2$ là index các điểm thuộc class 2. \n",
    "\n",
    "Phép chiếu dữ liệu xuống 1 đường thẳng có thể được mô tả bằng một vector hệ số $w$, giá trị tương ứng của mỗi điểm dữ liệu mới được cho bởi: $$y_n = w^Tx_n, 1 \\le n \\le N$$\n",
    "\n",
    "Vector kỳ vọng của mỗi class: $$m_{xk} = \\frac{1}{N_k}\\sum_{n \\in C_k}x_n, k = 1, 2 \\space \\space \\space \\space(1)$$\n",
    "\n",
    "Khi đó: $$m_{y1} - m_{y2} = \\frac{1}{N_1}\\sum_{i \\in C_1}y_i - \\frac{1}{N_2}\\sum_{j \\in C_2}y_j = w^T(m_{x1} - m_{x2}) \\space \\space \\space \\space(2)$$\n",
    "\n",
    "Các **within-class scatter** được định nghĩa là: $$s_k^2 = \\sum_{n \\in C_k}(y_n - m_{yk})^2, k = 1, 2 \\space \\space \\space \\space(3)$$\n",
    "\n",
    "LDA là thuật toán đi tìm giá trị lớn nhất của hàm mục tiêu: $$J(w) = \\frac{(m_{y1} - m_{y2})^2}{s_1^2 + s_2^2} \\space \\space \\space \\space(4)$$\n",
    "\n",
    "Áp dụng đẳng thức: $$(a^Tb)^2 = (a^Tb)(a^Tb) = a^Tbb^Ta$$ với a, b là 2 vector cùng chiều bất kỳ.\n",
    "\n",
    "Với tử số của (4): $$(m_{y1} - m_{y2})^2 = (w^T(m_{x1} - m_{x2}))^2 = w^T\\underbrace{(m_{x1} - m_{x2})(m_{x1} - m_{x2})^T}_{S_B}w = w^TS_Bw \\space \\space \\space \\space(5)$$ $S_B$ còn được gọi là **between-class scatter matrix**. Đây là một ma trận nửa xác định dương.\n",
    "\n",
    "Với mẫu số của (4): $$s_1^2 + s_2^2 = \\sum_{k=1}^2\\sum_{n \\in C_k}(w^T(x_n - m_{xk}))^2 = w^T\\underbrace{\\sum_{k=1}^2\\sum_{n \\in C_k}(x_n - m_{xk})(x_n - m_{xk})^T}_{S_w}w = w^TS_ww \\space \\space \\space \\space(6)$$ **S_w** còn được gọi là **within-class scatter matrix**. Đây cũng là một ma trận nửa xác định dương vì nó là tổng của hai ma trận nửa xác định dương.\n",
    "\n",
    "Như vậy, bài toán tối ưu cho LDA trở thành: $$w = \\underset{w}{\\arg\\max}\\frac{w^TS_Bw}{w^TS_ww} \\space \\space \\space \\space(7)$$\n",
    "\n",
    "Nghiệm $w$ của (7) sẽ là nghiệm của phương trình đạo hàm hàm mục tiêu bằng 0: \n",
    "\n",
    "\n",
    "$$\\nabla_w J(w) = 0$$\n",
    "\n",
    "\n",
    "$$\\Leftrightarrow S_W^{-1}S_Bw = J(w)w$$\n",
    "\n",
    "\n",
    "Để hàm mục tiêu của ta là lớn nhất thì J(w) chính là trị riêng lớn nhất của $S_w^{-1}S_B$"
   ]
  },
  {
   "cell_type": "markdown",
   "metadata": {},
   "source": [
    "### Thuật toán LDA"
   ]
  },
  {
   "cell_type": "markdown",
   "metadata": {},
   "source": [
    "Các bước của thuật toán LDA\n",
    "##### 1. Chuẩn hóa tập dữ liệu d chiều\n",
    "##### 2. Với mỗi class, tính mean vector d chiều\n",
    "##### 3. Xây dựng the between-class scatter matrix $S_B$ và the within-class scatter matrix $S_w$\n",
    "##### 4. Tính toán vector riêng và trị riêng tương ứng của ma trận $S_w^{-1}S_B$\n",
    "##### 5. Sắp xếp chúng theo thứ tự giảm dần của trị riêng\n",
    "##### 6. Chọn $K$ vector riêng ứng với $K$ trị riêng lớn nhất để xây dựng ma trận chuyển đổi (transformation matrix) d x k chiều, mỗi vector riêng là một cột của dữ liệu\n",
    "##### 7. Chiếu dữ liệu ban đầu đã chuẩn hoá $\\hat{X}$ thông qua W để tạo thành không gian đặc trưng mới K chiều. "
   ]
  },
  {
   "cell_type": "code",
   "execution_count": 16,
   "metadata": {},
   "outputs": [
    {
     "name": "stdout",
     "output_type": "stream",
     "text": [
      "MV 1: [ 0.9066 -0.3497  0.3201 -0.7189  0.5056  0.8807  0.9589 -0.5516  0.5416\n",
      "  0.2338  0.5897  0.6563  1.2075]\n",
      "\n",
      "MV 2: [-0.8749 -0.2848 -0.3735  0.3157 -0.3848 -0.0433  0.0635 -0.0946  0.0703\n",
      " -0.8286  0.3144  0.3608 -0.7253]\n",
      "\n",
      "MV 3: [ 0.1992  0.866   0.1682  0.4148 -0.0451 -1.0286 -1.2876  0.8287 -0.7795\n",
      "  0.9649 -1.209  -1.3622 -0.4013]\n",
      "\n"
     ]
    }
   ],
   "source": [
    "np.set_printoptions(precision=4)\n",
    "mean_vecs = []\n",
    "for label in range(1,4):\n",
    "    mean_vecs.append(np.mean(X_train_std[y_train==label], axis=0))\n",
    "    print('MV %s: %s\\n' %(label, mean_vecs[label-1]))"
   ]
  },
  {
   "cell_type": "markdown",
   "metadata": {},
   "source": [
    "Sử dụng vectors mean, chúng ta có thể tính toán the within-class scatter matrix, $S_w$\n",
    "\n",
    "$$S_w = \\sum_{i=1}^c S_i$$\n",
    "\n",
    "Nó là tổng của các scatter matrices $S_i$\n",
    "\n",
    "$$S_i = \\sum_{x \\in D_i} (x - m_i)(x - m_i)^T$$"
   ]
  },
  {
   "cell_type": "code",
   "execution_count": 17,
   "metadata": {},
   "outputs": [
    {
     "name": "stdout",
     "output_type": "stream",
     "text": [
      "Within-class scatter matrix: 13x13\n"
     ]
    }
   ],
   "source": [
    "d = 13 # number of features\n",
    "S_W = np.zeros((d, d))\n",
    "for label, mv in zip(range(1, 4), mean_vecs):\n",
    "    class_scatter = np.zeros((d, d))\n",
    "for row in X_train_std[y_train == label]:\n",
    "    row, mv = row.reshape(d, 1), mv.reshape(d, 1)\n",
    "    class_scatter += (row - mv).dot((row - mv).T)\n",
    "    S_W += class_scatter\n",
    "print('Within-class scatter matrix: %sx%s' % (S_W.shape[0], S_W.shape[1]))"
   ]
  },
  {
   "cell_type": "markdown",
   "metadata": {},
   "source": [
    "Giả định mà chúng ta đang thực hiện khi tính toán các scatter matrices là các nhãn lớp trong tập dữ liệu huấn luyện được phân phối đồng đều. \n",
    "Tuy nhiên, nếu chúng ta in số lượng nhãn lớp, chúng ta thấy rằng giả định này đã bị vi phạm:"
   ]
  },
  {
   "cell_type": "code",
   "execution_count": 18,
   "metadata": {},
   "outputs": [
    {
     "name": "stdout",
     "output_type": "stream",
     "text": [
      "Class label distribution: [41 50 33]\n"
     ]
    }
   ],
   "source": [
    "print('Class label distribution: %s' % np.bincount(y_train)[1:])"
   ]
  },
  {
   "cell_type": "markdown",
   "metadata": {},
   "source": [
    "Vì vậy, chúng tôi nên scale các scatter matrices trước khi cộng vào $S_w$ , bằng cách chia cho số lượng class examples $n_i$, chúng ta có thể thấy rằng tính toán ma trận phân tán trên thực tế giống như tính toán ma trận hiệp phương sai, $\\Sigma_i$ ma trận hiệp phương sai là một phiên bản chuẩn hóa của scatter matrices:\n",
    "$$\\Sigma_i = \\frac{1}{n_i}S_i = \\frac{1}{n_i}\\sum_{x \\in D_i} (x - m_i)(x - m_i)^T$$"
   ]
  },
  {
   "cell_type": "code",
   "execution_count": 19,
   "metadata": {},
   "outputs": [
    {
     "name": "stdout",
     "output_type": "stream",
     "text": [
      "Scaled within-class scatter matrix: 13x13\n"
     ]
    }
   ],
   "source": [
    "d = 13 # number of features\n",
    "S_W = np.zeros((d, d))\n",
    "for label,mv in zip(range(1, 4), mean_vecs):\n",
    "    class_scatter = np.cov(X_train_std[y_train==label].T)\n",
    "    S_W += class_scatter\n",
    "print('Scaled within-class scatter matrix: %sx%s' % (S_W.shape[0], S_W.shape[1]))"
   ]
  },
  {
   "cell_type": "markdown",
   "metadata": {},
   "source": [
    "$$S_B = \\sum_{i=1}^{c}n_i(m_i - m)(m_i - m)^T$$"
   ]
  },
  {
   "cell_type": "code",
   "execution_count": 20,
   "metadata": {},
   "outputs": [
    {
     "name": "stdout",
     "output_type": "stream",
     "text": [
      "Between-class scatter matrix: 13x13\n"
     ]
    }
   ],
   "source": [
    "mean_overall = np.mean(X_train_std, axis=0)\n",
    "d = 13 # number of features\n",
    "S_B = np.zeros((d, d))\n",
    "for i, mean_vec in enumerate(mean_vecs):\n",
    "    n = X_train_std[y_train == i + 1, :].shape[0]\n",
    "    mean_vec = mean_vec.reshape(d, 1) # make column vector\n",
    "    mean_overall = mean_overall.reshape(d, 1)\n",
    "    S_B += n * (mean_vec - mean_overall).dot((mean_vec - mean_overall).T)\n",
    "print('Between-class scatter matrix: %sx%s' % (\n",
    "S_B.shape[0], S_B.shape[1]))"
   ]
  },
  {
   "cell_type": "markdown",
   "metadata": {},
   "source": [
    "Tìm eigenvalue, eigenvector trong ma trận $S_W^{-1}S_B$"
   ]
  },
  {
   "cell_type": "code",
   "execution_count": 21,
   "metadata": {},
   "outputs": [],
   "source": [
    "eigen_vals, eigen_vecs = np.linalg.eig(np.linalg.inv(S_W).dot(S_B))"
   ]
  },
  {
   "cell_type": "code",
   "execution_count": 22,
   "metadata": {},
   "outputs": [
    {
     "name": "stdout",
     "output_type": "stream",
     "text": [
      "Eigenvalues in descending order:\n",
      "\n",
      "349.6178089059939\n",
      "172.76152218979388\n",
      "3.7853134512521556e-14\n",
      "2.117398448224407e-14\n",
      "1.5164618894178885e-14\n",
      "1.5164618894178885e-14\n",
      "1.3579567140455979e-14\n",
      "1.3579567140455979e-14\n",
      "7.587760371654683e-15\n",
      "5.906039984472233e-15\n",
      "5.906039984472233e-15\n",
      "2.256441978569674e-15\n",
      "0.0\n"
     ]
    }
   ],
   "source": [
    "eigen_pairs = [(np.abs(eigen_vals[i]), eigen_vecs[:,i]) for i in range(len(eigen_vals))]\n",
    "eigen_pairs = sorted(eigen_pairs, key=lambda k: k[0], reverse=True)\n",
    "print('Eigenvalues in descending order:\\n')\n",
    "for eigen_val in eigen_pairs:\n",
    "    print(eigen_val[0])"
   ]
  },
  {
   "cell_type": "code",
   "execution_count": 23,
   "metadata": {},
   "outputs": [
    {
     "data": {
      "image/png": "[encoded data removed]",
      "text/plain": [
       "<Figure size 432x288 with 1 Axes>"
      ]
     },
     "metadata": {
      "needs_background": "light"
     },
     "output_type": "display_data"
    }
   ],
   "source": [
    "tot = sum(eigen_vals.real)\n",
    "discr = [(i / tot) for i in sorted(eigen_vals.real, reverse=True)]\n",
    "cum_discr = np.cumsum(discr)\n",
    "plt.bar(range(1, 14), discr, alpha=0.5, align='center', label='Individual \"discriminability\"')\n",
    "plt.step(range(1, 14), cum_discr, where='mid', label='Cumulative \"discriminability\"')\n",
    "plt.ylabel('\"Discriminability\" ratio')\n",
    "plt.xlabel('Linear Discriminants')\n",
    "plt.ylim([-0.1, 1.1])\n",
    "plt.legend(loc='best')\n",
    "plt.tight_layout()\n",
    "plt.show()"
   ]
  },
  {
   "cell_type": "markdown",
   "metadata": {},
   "source": [
    "Như chúng ta có thể thấy là chỉ với 2 linear discriminants đã chiếm 100% thồng tin của Wine dataset"
   ]
  },
  {
   "cell_type": "markdown",
   "metadata": {},
   "source": [
    "Tiếp theo, dựa vào 2 eigenvector, ta chồng nó lên để tạo thành ma trận chuyển đổi (transformation matrix) W"
   ]
  },
  {
   "cell_type": "code",
   "execution_count": 24,
   "metadata": {},
   "outputs": [
    {
     "name": "stdout",
     "output_type": "stream",
     "text": [
      "Matrix W:\n",
      " [[-0.1481 -0.4092]\n",
      " [ 0.0908 -0.1577]\n",
      " [-0.0168 -0.3537]\n",
      " [ 0.1484  0.3223]\n",
      " [-0.0163 -0.0817]\n",
      " [ 0.1913  0.0842]\n",
      " [-0.7338  0.2823]\n",
      " [-0.075  -0.0102]\n",
      " [ 0.0018  0.0907]\n",
      " [ 0.294  -0.2152]\n",
      " [-0.0328  0.2747]\n",
      " [-0.3547 -0.0124]\n",
      " [-0.3915 -0.5958]]\n"
     ]
    }
   ],
   "source": [
    "w = np.hstack((eigen_pairs[0][1][:, np.newaxis].real, eigen_pairs[1][1][:, np.newaxis].real))\n",
    "print('Matrix W:\\n', w)"
   ]
  },
  {
   "cell_type": "markdown",
   "metadata": {},
   "source": [
    "Chiếu dữ liệu vào trong không gian mới: $$X' = XW$$"
   ]
  },
  {
   "cell_type": "code",
   "execution_count": 25,
   "metadata": {},
   "outputs": [
    {
     "data": {
      "image/png": "[encoded data removed]",
      "text/plain": [
       "<Figure size 432x288 with 1 Axes>"
      ]
     },
     "metadata": {
      "needs_background": "light"
     },
     "output_type": "display_data"
    }
   ],
   "source": [
    "X_train_lda = X_train_std.dot(w)\n",
    "colors = ['r', 'b', 'g']\n",
    "markers = ['s', 'x', 'o']\n",
    "for l, c, m in zip(np.unique(y_train), colors, markers):\n",
    "    plt.scatter(X_train_lda[y_train==l, 0], X_train_lda[y_train==l, 1] * (-1), c=c, label=l, marker=m)\n",
    "plt.xlabel('LD 1')\n",
    "plt.ylabel('LD 2')\n",
    "plt.legend(loc='lower right')\n",
    "plt.tight_layout()\n",
    "plt.show()"
   ]
  },
  {
   "cell_type": "markdown",
   "metadata": {},
   "source": [
    "Chúng ta có thể thấy là trong không gian con mới, 3 lớp được phân tách tuyến tính hoàn hảo"
   ]
  },
  {
   "cell_type": "markdown",
   "metadata": {},
   "source": [
    "Áp dụng Scikit-Learn"
   ]
  },
  {
   "cell_type": "code",
   "execution_count": 26,
   "metadata": {},
   "outputs": [],
   "source": [
    "# the following import statement is one line\n",
    "from sklearn.discriminant_analysis import LinearDiscriminantAnalysis as LDA\n",
    "lda = LDA(n_components=2)\n",
    "X_train_lda = lda.fit_transform(X_train_std, y_train)"
   ]
  },
  {
   "cell_type": "code",
   "execution_count": 27,
   "metadata": {},
   "outputs": [
    {
     "data": {
      "image/png": "[encoded data removed]",
      "text/plain": [
       "<Figure size 432x288 with 1 Axes>"
      ]
     },
     "metadata": {
      "needs_background": "light"
     },
     "output_type": "display_data"
    }
   ],
   "source": [
    "lr = LogisticRegression(multi_class='ovr', random_state=1, solver='lbfgs')\n",
    "lr = lr.fit(X_train_lda, y_train)\n",
    "plot_decision_regions(X_train_lda, y_train, classifier=lr)\n",
    "plt.xlabel('LD 1')\n",
    "plt.ylabel('LD 2')\n",
    "plt.legend(loc='lower left')\n",
    "plt.tight_layout()\n",
    "plt.show()"
   ]
  },
  {
   "cell_type": "code",
   "execution_count": 28,
   "metadata": {},
   "outputs": [
    {
     "data": {
      "image/png": "[encoded data removed]",
      "text/plain": [
       "<Figure size 432x288 with 1 Axes>"
      ]
     },
     "metadata": {
      "needs_background": "light"
     },
     "output_type": "display_data"
    }
   ],
   "source": [
    "X_test_lda = lda.transform(X_test_std)\n",
    "plot_decision_regions(X_test_lda, y_test, classifier=lr)\n",
    "plt.xlabel('LD 1')\n",
    "plt.ylabel('LD 2')\n",
    "plt.legend(loc='lower left')\n",
    "plt.tight_layout()\n",
    "plt.show()"
   ]
  }
 ],
 "metadata": {
  "kernelspec": {
   "display_name": "Python 3",
   "language": "python",
   "name": "python3"
  },
  "language_info": {
   "codemirror_mode": {
    "name": "ipython",
    "version": 3
   },
   "file_extension": ".py",
   "mimetype": "text/x-python",
   "name": "python",
   "nbconvert_exporter": "python",
   "pygments_lexer": "ipython3",
   "version": "3.7.3"
  }
 },
 "nbformat": 4,
 "nbformat_minor": 2
}
