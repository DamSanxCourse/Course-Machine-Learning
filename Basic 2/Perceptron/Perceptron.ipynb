{
 "cells": [
  {
   "cell_type": "markdown",
   "metadata": {},
   "source": [
    "# <center>PERCEPTRON</center> "
   ]
  },
  {
   "cell_type": "markdown",
   "metadata": {},
   "source": [
    "# Tổng quan về Học máy (machine learning)"
   ]
  },
  {
   "cell_type": "markdown",
   "metadata": {},
   "source": [
    "## 1 Học máy là gì?\n",
    "Học Máy ( Machine Learning ) là lĩnh vực con của Trí Tuệ Nhân Tạo ( Artificial Intelligence - AI). Mục tiêu của Học Máy là hiểu cấu trúc của dữ liệu ( data ) và xử lý dữ liệu để tạo ra các mô hình ( model ) thực hiện các công việc cụ thể. Nếu trong các phương pháp tiếp cận truyền thống, thuật toán là một tập hợp các tri thức và quy luật được lập trình rõ ràng thì ở đây các thuật toán machine learning sẽ tự học các tri thức và quy luật đó từ dữ liệu đầu vào.\n",
    "\n",
    "Arthur Samuel định nghĩa Học Máy như sau: \n",
    "\n",
    ">[Machine Learning is the] field of study that gives computers the ability to learn without being explicitly programmed.\n",
    "\n",
    "          Arthur Samuel, 1959 \n",
    "\n",
    "Ứng dụng đầu tiên của Học máy là chương trình lọc thư rác (spam filter). Nó đã giúp cải thiện cuộc sống của hàng trăm triệu người và phổ biến trên toàn thế thời từ thập niên 1990. Nó là tiền đề phát triển cho hàng trăm ứng dụng Học máy khác như hệ thống khuyến nghị, nhận dạng giọng nói, nhận dạng khuôn mặt,..."
   ]
  },
  {
   "cell_type": "markdown",
   "metadata": {},
   "source": [
    "## 2 Tại sao sử dụng Học máy?\n",
    "Cách tiếp cận cũ cho các vấn đề yêu cầu nhiều sự can thiệp thủ công từ con người, yêu cầu phải có một hệ thống tập luật rất dài. Đối với Học máy, việc tiếp cận trở nên dễ dàng hơn cho việc lập trình và cho kết quả tốt hơn vì chương trình Học máy có thể tự động mô hình hoá, nhận biết được các luật mới dựa trên dữ liệu đầu vào.\n",
    "\n",
    "Các vấn đề phức tạp mà chưa có lời giải tốt bằng cách tiếp cận truyền thống có thể tìm được lời giải tốt bằng kỹ thuật Học máy.\n",
    "\n",
    "Chương trình học máy có thể điều chỉnh để thích ứng với dữ liệu mới và nhận thông tin chuyên sâu về các vấn đề phức tạp với lượng lớn dữ liệu."
   ]
  },
  {
   "cell_type": "markdown",
   "metadata": {},
   "source": [
    "## 3 Học máy có những loại nào?\n",
    "Có bốn loại thuật toán Học máy chính: Học có giám sát (supervised learning), học không có giám sát (unsupervised learning), học bán giám sát (semisupervised  learning), học tăng cường (Reinforcement learning)."
   ]
  },
  {
   "cell_type": "markdown",
   "metadata": {},
   "source": [
    "### 3.1 Học có giám sát\n",
    "Trong học có giám sát, thuật toán cần được học dựa trên dữ liệu đầu vào được gán nhãn. Có hai loại chính là:\n",
    "- Phân lớp (Classification): tập hợp các giá trị nhãn là hữu hạn và rời rạc. Ví dụ: phân loại các loại xe cộ (xe bus, xe hơi, xe máy,...), chương trình lọc thư rác, khách hàng có khả năng thanh toán nợ hay không, ...\n",
    "\n",
    "| ![Lọc thư rác](https://raw.githubusercontent.com/TheDuyIT/Introduce-to-machine-learing/master/images/0/Spam%20filtering.png) | \n",
    "|:--:| \n",
    "| *Lọc thư rác* |\n",
    "\n",
    "- Hồi quy (Regression): tập hợp các giá trị nhãn là liên tục. Ví dụ: dự đoán giá đất đai, dự đoán tuổi, ...\n",
    "\n",
    "|![Hồi quy](https://raw.githubusercontent.com/TheDuyIT/Introduce-to-machine-learing/master/images/0/regression.png)|\n",
    "|:--:|\n",
    "|*Hồi quy*|\n",
    "\n",
    "Một số thuật toán học có giám sát tiêu biểu:\n",
    "- Linear Regression\n",
    "- Logistic Regression\n",
    "- CART\n",
    "- Naive Bayes\n",
    "- KNN"
   ]
  },
  {
   "cell_type": "markdown",
   "metadata": {},
   "source": [
    "### 3.2 Học không có giám sát\n",
    "Khác với học có giám sát, thuật toán học không có giám sát nhận dữ liệu đầu vào không có nhãn. Một số loại chính là:\n",
    "- Phân cụm (Clustering): được dùng trong việc khám phá những nhóm dữ liệu có mối tương đồng. Ví dụ: phân nhóm khách hàng có chung sở thích mua hàng.\n",
    "\n",
    "|![Clustering](https://raw.githubusercontent.com/TheDuyIT/Introduce-to-machine-learing/master/images/0/cluster.png)|\n",
    "|:--:|\n",
    "|*Phân cụm*|\n",
    "\n",
    "- Giảm chiều dữ liệu (Dimension reduction): mục đích đơn giản hoá dữ liệu mà không mất đi những đặc trưng quan trọng. Một cách để làm điều này là hợp nhất những đặc trưng tương quan thành một. Ví dụ: số km đi được của một chiếc xe có tương quan cao với số tuổi của nó nên có thể kết hợp thành một đặc trưng như \"sự hao mòn\". Phương pháp này còn gọi là: trích xuất đặc trưng (feature extraction)\n",
    "\n",
    "\n",
    "- Biểu diễn tri thức (Knowledge/data representation): biểu diễn tri thức bằng các cấu trúc mà máy tính có thể sử dụng hiệu quả. Tác vụ này đôi khi là bước tiền xử lý cho các thuật toán machine learning khác.\n",
    "\n",
    "\n",
    "- Phát hiện bất thường (anomaly detection): ví dụ phát hiện sự bất thường trong giao dịch để phát hiện và ngăn chặn giao dịch trái phép.\n",
    "\n",
    "\n",
    "|![Anomaly detection](https://raw.githubusercontent.com/TheDuyIT/Introduce-to-machine-learing/master/images/0/anomaly.png)|\n",
    "|:--:|\n",
    "|*Phát hiện bất thường*|\n",
    "\n",
    "Một số thuật toán học không có giám sát:\n",
    "- Apriori\n",
    "- K-means\n",
    "- Principal component analysis (PCA) "
   ]
  },
  {
   "cell_type": "markdown",
   "metadata": {},
   "source": [
    "### 3.3 Học bán giám sát\n",
    "Một số thuật toán có thể hoạt động khi chúng ta có một lượng lớn dữ liệu nhưng chỉ một phần trong chúng được gán nhãn. Một ví dụ điển hình của thuật toán này là chỉ có một phần ảnh được gán nhãn và phần lớn còn lại chưa được gán nhãn được thu thập từ Internet."
   ]
  },
  {
   "cell_type": "markdown",
   "metadata": {},
   "source": [
    "### 3.4 Học tăng cường\n",
    "Học tăng cường nghiên cứu các thuật toán để dạy agent tương tác với môi trường xung quanh (thực thi một tác vụ nào đó). Các agent có thể quan sát môi trường, lựa chọn hành động và nhận được phần thưởng (hoặc phạt) từ hành động đó. Được ứng dụng nhiều trong điều kiển robot và game.\n",
    "Ví dụ: DeepMind's AlphaGo nổi tiếng với việc chơi cờ vây thắng cả con người."
   ]
  },
  {
   "cell_type": "markdown",
   "metadata": {},
   "source": [
    "# Perceptron"
   ]
  },
  {
   "cell_type": "markdown",
   "metadata": {},
   "source": [
    "## 1. Biological neuron\n",
    "![](https://i.imgur.com/hGIpqz1.jpg)\n",
    "- Dendrites: Nhận thông tin từ các neuron khác\n",
    "- Cell nucleus: Xử lí thông tin từ Dendrites\n",
    "- Axon: Được sử dụng bỡi các neurons để truyền thông tin\n",
    "- Synapse: là sự kết nối giửa axon và dendrite của neuron khác"
   ]
  },
  {
   "cell_type": "markdown",
   "metadata": {},
   "source": [
    "## 2. Artificial Neuron\n",
    "![](https://i.imgur.com/H1zIN2q.png)\n",
    "- Năm 1943, Warren McCulloch và Walter Pitts đưa ra khái niệm đầu tiên về tế bào neuron đơn giản, được gọi là McCulloch-Pitts (MCP) neuron\n",
    "- Artificial Neuron là một hàm toán học dựa trên mô hình neuron sinh học, ở đó mỗi neuron nhận các input và weight đầu vào, tính tổng của các tích input và weight và đưa qua một hàm activation (nonlinear) để đưa ra output\n",
    "\n",
    "$$z = w^Tx + b = \\sum_{i=1}^m w_{i}x_{i} + b$$\n",
    "\n",
    "$$\\hat{y} = f(z)$$\n",
    "\n",
    "- w : vector of real-valued weights\n",
    "- x : vector of input x values\n",
    "- m : total number of samples\n",
    "- b : bias\n",
    "- f : activation function\n",
    "- $\\hat{y}$ : output"
   ]
  },
  {
   "cell_type": "markdown",
   "metadata": {},
   "source": [
    "## 3. Biological Neuron vs Artificial Neuron\n",
    "\n",
    "![](https://i.imgur.com/bzIZ4yt.png)"
   ]
  },
  {
   "cell_type": "markdown",
   "metadata": {},
   "source": [
    "## 4. Perceptron Learning Algorithm\n",
    "\n",
    "- Perceptron được giới thiệu bỡi Frank Rosenblatt năm 1957, ông đề xuất một Perceptron learning rule dựa trên MCP neuron\n",
    "- Perceptron là thuật toán Supervised learning thực hiện việc phân loại nhị phân\n",
    "\n",
    "##### TỔNG QUÁT BÀI TOÁN CỦA PERCEPTRON: \n",
    "- Cho 2 class được gán nhãn, ta tìm một đường thẳng sao cho toàn bộ điểm thuộc class 1 về 1 phía, toàn bộ điểm thuộc class 2 nằm về phía còn lại (với điều kiện 2 class đó là linearly separable).\n",
    "    - Linear separable là việc tồn tại một đường thẳng phân chia 2 class\n",
    "    \n",
    "    ![](https://i.imgur.com/SE0m9Fk.png)\n",
    "    \n",
    "##### Ý TƯỞNG:\n",
    "- ý tưởng cơ bản của PLA là chọn đường boundary, xét từng điểm dữ liệu một, nếu điểm đó bị misclassified ta sẽ điều chỉnh sao cho boundary đúng với điểm đó, có thể thấy là những điểm còn lại trước đó classified đúng giờ lại misclassified. Tuy nhiên sau một số bước hữu hạn, PLA vẫn sẽ hội tụ , tức là tìm được đường thẳng phân chia 2 lớp, miễn là 2 lớp đó là linear separable\n",
    "\n",
    "![](https://i.imgur.com/q5DaXdg.gif)\n",
    "\n",
    "#### ĐỊNH NGHĨA:\n",
    "\n",
    "![](https://i.imgur.com/l1zJaM8.png)\n",
    "\n",
    "$$\\text{net input}: z = w_{1}x_{1} + w_{2}x_{2} + ... + w_{m}x_{m}$$\n",
    "\n",
    "$$\\text{unit step function}: \\phi(z) = \\begin{cases} 1 &\\text{if } z \\ge \\theta \\\\ -1 &\\text{otherwise} \\end{cases}$$\n",
    "\n",
    "- Để đơn giản, ta chuyển $\\theta$ sang vế trái và đặt $w_0 = -\\theta , x_0 = 1$, khi đó ta được: \n",
    "\n",
    "$$\\text{net input}: z = w_{0}x_{0} + w_{1}x_{1} + ... + w_{m}x_{m} = W^Tx$$\n",
    "\n",
    "$$\\text{unit step function}: \\phi(z) = \\begin{cases} 1 &\\text{if } z \\ge 0 \\\\ -1 &\\text{otherwise} \\end{cases}$$\n",
    "- $w_{0}$ : là bias unit\n",
    "- $\\phi$  :là unit step function\n",
    "\n",
    "#### THE PERCEPTRON LEARNING RULE:\n",
    "![](https://i.imgur.com/YvKwgnC.png)\n",
    "\n",
    "1. Khởi tạo các weight gần 0.\n",
    "2. Duyệt ngẫu nhiên qua từng điểm dữ liệu, $x^{(i)}$:\n",
    "    1. Tính giá trị output, $\\hat{y}$\n",
    "    2. Update weights\n",
    "3. Khi nào không còn giá trị misclassifed thì dừng thuật toán.    \n",
    "\n",
    "\n",
    "- Công thức update weights:\n",
    "$$w_j^{(i)} = w_j^{(i)} + \\Delta  w_j^{(i)}$$\n",
    "\n",
    "$$\\Delta w_j^{(i)} = \\eta(y^{(i)} - \\hat{y}^{(i)})x_j^{(i)}$$\n",
    "- Ví dụ: \n",
    "    - Nếu dự đoán đúng: $y^{(i)} = 1$, $\\hat{y}^{(i)} = 1$ => $\\Delta w_j = \\eta(1 - 1)x_j^{(i)} = 0$\n",
    "    - Nếu dự đoán sai: $y^{(i)} = 1$, $\\hat{y}^{(i)} = -1$ => $\\Delta w_j = \\eta(1 - (-1))x_j^{(i)} = 2\\eta x_j^{(i)}$\n",
    "    \n"
   ]
  },
  {
   "cell_type": "markdown",
   "metadata": {},
   "source": [
    "MSP: $w_0 + w_1x_1 + w_2x_2 + ... + w_nx_n = 0$"
   ]
  },
  {
   "cell_type": "markdown",
   "metadata": {},
   "source": [
    "Proof: $$Z_{new}^{(i)} = (w + 2 \\eta x_j^{(i)})^Tx^{(i)} = w^Tx^{(i)} +  (2 \\eta x_j^{(i)})^Tx^{(i)}$$"
   ]
  },
  {
   "cell_type": "markdown",
   "metadata": {},
   "source": [
    "# DEMO"
   ]
  },
  {
   "cell_type": "code",
   "execution_count": 17,
   "metadata": {},
   "outputs": [],
   "source": [
    "import numpy as np\n",
    "\n",
    "class Perceptron(object):\n",
    "    def __init__(self, eta = 0.01, n_iter = 50, random_state = 1):\n",
    "        self.eta = eta\n",
    "        self.n_iter = n_iter\n",
    "        self.random_state = random_state\n",
    "    \n",
    "    def fit(self, X, y):\n",
    "        rgen = np.random.RandomState(self.random_state)\n",
    "        self.w_ = rgen.normal(loc = 0.0, scale = 0.01, size = 1 + X.shape[1]) #loc: mean, scale: standard deviation\n",
    "        self.errors_ = []\n",
    "        \n",
    "        for i in range(self.n_iter):\n",
    "            errors = 0\n",
    "            for xi, target in zip(X, y):\n",
    "                update = self.eta * (target - self.predict(xi))\n",
    "                self.w_[1:] += update * xi\n",
    "                self.w_[0] += update\n",
    "                errors += int(update != 0.0)\n",
    "#             print('epoch = ', i , '      ', 'loss = ', errors)\n",
    "            self.errors_.append(errors)\n",
    "        return self\n",
    "    \n",
    "    def net_input(self, X):\n",
    "        return np.dot(X, self.w_[1:]) + self.w_[0]\n",
    "    \n",
    "    def predict(self, X):\n",
    "        return np.where(self.net_input(X) >= 0.0, 1, -1)"
   ]
  },
  {
   "cell_type": "code",
   "execution_count": 18,
   "metadata": {},
   "outputs": [
    {
     "data": {
      "text/html": [
       "<div>\n",
       "<style scoped>\n",
       "    .dataframe tbody tr th:only-of-type {\n",
       "        vertical-align: middle;\n",
       "    }\n",
       "\n",
       "    .dataframe tbody tr th {\n",
       "        vertical-align: top;\n",
       "    }\n",
       "\n",
       "    .dataframe thead th {\n",
       "        text-align: right;\n",
       "    }\n",
       "</style>\n",
       "<table border=\"1\" class=\"dataframe\">\n",
       "  <thead>\n",
       "    <tr style=\"text-align: right;\">\n",
       "      <th></th>\n",
       "      <th>sepal_length</th>\n",
       "      <th>sepal_width</th>\n",
       "      <th>petal_length</th>\n",
       "      <th>petal_width</th>\n",
       "      <th>type</th>\n",
       "    </tr>\n",
       "  </thead>\n",
       "  <tbody>\n",
       "    <tr>\n",
       "      <th>0</th>\n",
       "      <td>5.1</td>\n",
       "      <td>3.5</td>\n",
       "      <td>1.4</td>\n",
       "      <td>0.2</td>\n",
       "      <td>setosa</td>\n",
       "    </tr>\n",
       "    <tr>\n",
       "      <th>1</th>\n",
       "      <td>4.9</td>\n",
       "      <td>3.0</td>\n",
       "      <td>1.4</td>\n",
       "      <td>0.2</td>\n",
       "      <td>setosa</td>\n",
       "    </tr>\n",
       "    <tr>\n",
       "      <th>2</th>\n",
       "      <td>4.7</td>\n",
       "      <td>3.2</td>\n",
       "      <td>1.3</td>\n",
       "      <td>0.2</td>\n",
       "      <td>setosa</td>\n",
       "    </tr>\n",
       "    <tr>\n",
       "      <th>3</th>\n",
       "      <td>4.6</td>\n",
       "      <td>3.1</td>\n",
       "      <td>1.5</td>\n",
       "      <td>0.2</td>\n",
       "      <td>setosa</td>\n",
       "    </tr>\n",
       "    <tr>\n",
       "      <th>4</th>\n",
       "      <td>5.0</td>\n",
       "      <td>3.6</td>\n",
       "      <td>1.4</td>\n",
       "      <td>0.2</td>\n",
       "      <td>setosa</td>\n",
       "    </tr>\n",
       "  </tbody>\n",
       "</table>\n",
       "</div>"
      ],
      "text/plain": [
       "   sepal_length  sepal_width  petal_length  petal_width    type\n",
       "0           5.1          3.5           1.4          0.2  setosa\n",
       "1           4.9          3.0           1.4          0.2  setosa\n",
       "2           4.7          3.2           1.3          0.2  setosa\n",
       "3           4.6          3.1           1.5          0.2  setosa\n",
       "4           5.0          3.6           1.4          0.2  setosa"
      ]
     },
     "execution_count": 18,
     "metadata": {},
     "output_type": "execute_result"
    }
   ],
   "source": [
    "#Load Iris data\n",
    "import pandas as pd\n",
    "from sklearn.datasets import load_iris\n",
    "Iris = load_iris()\n",
    "data = pd.DataFrame(Iris.data, columns = ['sepal_length', 'sepal_width', 'petal_length', 'petal_width'])\n",
    "trans = pd.Categorical.from_codes(Iris.target, Iris.target_names)\n",
    "target = pd.DataFrame(trans, columns = ['type'])\n",
    "df = pd.concat([data, target], axis = 1)\n",
    "df.head()"
   ]
  },
  {
   "cell_type": "code",
   "execution_count": 19,
   "metadata": {},
   "outputs": [
    {
     "data": {
      "image/png": "[encoded data removed]",
      "text/plain": [
       "<Figure size 432x288 with 1 Axes>"
      ]
     },
     "metadata": {
      "needs_background": "light"
     },
     "output_type": "display_data"
    }
   ],
   "source": [
    "#Viz\n",
    "import matplotlib.pyplot as plt\n",
    "X = df.iloc[:100, [0,2]].values\n",
    "y = df.iloc[:100, 4].values\n",
    "y = np.where(y == 'setosa', -1, 1)\n",
    "\n",
    "plt.scatter(X[:50, 0], X[:50, 1], color = 'red', marker = 'o', label = 'setosa')\n",
    "plt.scatter(X[50:100, 0], X[50:100, 1], color = 'blue', marker = 'x', label = 'versicolor')\n",
    "plt.xlabel('sepal length')\n",
    "plt.ylabel('petal length')\n",
    "plt.legend(loc = 'upper left')\n",
    "plt.show()"
   ]
  },
  {
   "cell_type": "code",
   "execution_count": 20,
   "metadata": {},
   "outputs": [
    {
     "data": {
      "image/png": "[encoded data removed]",
      "text/plain": [
       "<Figure size 432x288 with 1 Axes>"
      ]
     },
     "metadata": {
      "needs_background": "light"
     },
     "output_type": "display_data"
    }
   ],
   "source": [
    "ppn = Perceptron(eta = 0.1, n_iter = 10)\n",
    "ppn.fit(X, y)\n",
    "plt.plot(range(1, len(ppn.errors_) + 1), ppn.errors_, marker = 'o')\n",
    "plt.xlabel('epoch')\n",
    "plt.ylabel('Number of updates')\n",
    "plt.show()"
   ]
  },
  {
   "cell_type": "code",
   "execution_count": 28,
   "metadata": {},
   "outputs": [
    {
     "data": {
      "image/png": "[encoded data removed]",
      "text/plain": [
       "<Figure size 432x288 with 1 Axes>"
      ]
     },
     "metadata": {
      "needs_background": "light"
     },
     "output_type": "display_data"
    }
   ],
   "source": [
    "from matplotlib.colors import ListedColormap\n",
    "def plot_decision_regions(X, y, classifier, resolution =  0.02):\n",
    "    # setup marker generator and color map\n",
    "    markers = ('s', 'x', 'o', '^', 'v')\n",
    "    colors = ('red', 'blue', 'lightgreen', 'gray', 'cyan')\n",
    "    cmap = ListedColormap(colors[:len(np.unique(y))])\n",
    "    \n",
    "    x1_min, x1_max = X[:, 0].min() - 1, X[:, 0].max() + 1\n",
    "    x2_min, x2_max = X[:, 1].min() - 1, X[:, 1].max() + 1\n",
    "    xx1, xx2 = np.meshgrid(np.arange(x1_min, x1_max, resolution), np.arange(x2_min, x2_max, resolution))\n",
    "    Z = classifier.predict(np.array([xx1.ravel(), xx2.ravel()]).T)\n",
    "    Z = Z.reshape(xx1.shape)\n",
    "    plt.contourf(xx1, xx2, Z, alpha = 0.3, cmap = cmap)\n",
    "    plt.xlim(xx1.min(), xx1.max())\n",
    "    plt.ylim(xx2.min(), xx2.max())\n",
    "\n",
    "    for idx, cl in enumerate(np.unique(y)):\n",
    "        plt.scatter(x = X[y == cl, 0], y = X[y == cl, 1], alpha = 0.9, c = colors[idx], marker = markers[idx], label = cl, edgecolor = 'black')\n",
    "plot_decision_regions(X, y, classifier=ppn)\n",
    "plt.xlabel('sepal length [cm]')\n",
    "plt.ylabel('petal length [cm]')\n",
    "plt.legend(loc='upper left')\n",
    "plt.show()"
   ]
  }
 ],
 "metadata": {
  "kernelspec": {
   "display_name": "Python 3",
   "language": "python",
   "name": "python3"
  },
  "language_info": {
   "codemirror_mode": {
    "name": "ipython",
    "version": 3
   },
   "file_extension": ".py",
   "mimetype": "text/x-python",
   "name": "python",
   "nbconvert_exporter": "python",
   "pygments_lexer": "ipython3",
   "version": "3.7.3"
  }
 },
 "nbformat": 4,
 "nbformat_minor": 2
}
