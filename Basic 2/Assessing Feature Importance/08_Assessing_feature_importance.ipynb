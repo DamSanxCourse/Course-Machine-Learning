{
  "nbformat": 4,
  "nbformat_minor": 0,
  "metadata": {
    "colab": {
      "name": "08_Assessing feature importance.ipynb",
      "provenance": [],
      "collapsed_sections": [
        "KVjKy0oDNlhB",
        "lo4vQ68tVcpO",
        "d5Ybznw-VhqN",
        "oS5mhVZ9VvuI",
        "wOmQMIabV76T",
        "tYCZgWG6NhsY"
      ]
    },
    "kernelspec": {
      "name": "python3",
      "display_name": "Python 3"
    }
  },
  "cells": [
    {
      "cell_type": "markdown",
      "metadata": {
        "id": "KVjKy0oDNlhB",
        "colab_type": "text"
      },
      "source": [
        "## Default"
      ]
    },
    {
      "cell_type": "code",
      "metadata": {
        "id": "jct0q7NIVLNs",
        "colab_type": "code",
        "colab": {}
      },
      "source": [
        "# libraries\n",
        "from sklearn.linear_model import LogisticRegression\n",
        "import pandas as pd\n",
        "from io import StringIO\n",
        "from sklearn.impute import SimpleImputer\n",
        "import numpy as np\n",
        "import copy\n",
        "from sklearn.preprocessing import LabelEncoder\n",
        "from sklearn.preprocessing import OneHotEncoder\n",
        "from sklearn.model_selection import train_test_split\n",
        "from sklearn.preprocessing import MinMaxScaler\n",
        "from sklearn.preprocessing import StandardScaler\n",
        "from sklearn.base import clone\n",
        "from itertools import combinations\n",
        "from sklearn.metrics import accuracy_score\n",
        "import matplotlib.pyplot as plt\n",
        "from sklearn.neighbors import KNeighborsClassifier\n",
        "from sklearn.base import clone\n",
        "from sklearn.ensemble import RandomForestClassifier\n",
        "from sklearn.feature_selection import SelectFromModel"
      ],
      "execution_count": 1,
      "outputs": []
    },
    {
      "cell_type": "code",
      "metadata": {
        "id": "HQrBP9lDVMlC",
        "colab_type": "code",
        "colab": {}
      },
      "source": [
        "# get wine data and assign data to X, Y\n",
        "df_wine = pd.read_csv('https://archive.ics.uci.edu/ml/machine-learning-databases/wine/wine.data', header=None)\n",
        "df_wine.columns = ['Class label', 'Alcohol', 'Malic acid', 'Ash', 'Alcalinity of ash', 'Magnesium', 'Total phenols', 'Flavanoids', 'Nonflavanoid phenols', 'Proanthocyanins', 'Color intensity', 'Hue', 'OD280/OD315 of diluted wines', 'Proline']\n",
        "X = df_wine.iloc[:, 1:].values\n",
        "y = df_wine.iloc[:, 0].values\n",
        "X_train, X_test, y_train, y_test = train_test_split(X, y, test_size=0.2, random_state=0, stratify=y)\n",
        "\n",
        "# Standardization\n",
        "stdsc = StandardScaler()\n",
        "X_train_std = stdsc.fit_transform(X_train)\n",
        "X_test_std = stdsc.transform(X_test)"
      ],
      "execution_count": 2,
      "outputs": []
    },
    {
      "cell_type": "markdown",
      "metadata": {
        "id": "oS5mhVZ9VvuI",
        "colab_type": "text"
      },
      "source": [
        "### evaluate each feature"
      ]
    },
    {
      "cell_type": "code",
      "metadata": {
        "id": "eWNkM0wBWWjm",
        "colab_type": "code",
        "colab": {}
      },
      "source": [
        "feat_labels = df_wine.columns[1:]                                   # list of full set of features\n",
        "forest = RandomForestClassifier(n_estimators=500, random_state=1, oob_score=True)              # declare a forest with 500 trees\n",
        "forest.fit(X_train, y_train)                                        # train model with X_train, Y_train\n",
        "importances = forest.feature_importances_                           # array of feature importances [0.1370972 , 0.03183888, 0.01466725, 0.02540992, 0.02872538, 0.05191135, 0.15188376, 0.0127449 , 0.01867625, 0.15018238, 0.06242782, 0.12621823, 0.18821667])\n",
        "indices = np.argsort(importances)[::-1]                             # array of sorted index ([12,  6,  9,  0, 11, 10,  5,  1,  4,  3,  8,  2,  7])\n",
        "for f in range(X_train.shape[1]):\n",
        "  print(\"%2d) %-*s %f\" % (f + 1, 30, feat_labels[indices[f]], importances[indices[f]]))\n",
        "\n",
        "print(\"\\nobb score: \", forest.oob_score_, \"\\n\")\n",
        "\n",
        "# plt.title('Feature Importance')\n",
        "# plt.bar(range(X_train.shape[1]), importances[indices], align='center')\n",
        "# plt.xticks(range(X_train.shape[1]), feat_labels[indices], rotation=90)\n",
        "# plt.xlim([-1, X_train.shape[1]])\n",
        "# plt.tight_layout()\n",
        "# plt.show()"
      ],
      "execution_count": null,
      "outputs": []
    },
    {
      "cell_type": "markdown",
      "metadata": {
        "id": "wOmQMIabV76T",
        "colab_type": "text"
      },
      "source": [
        "### set threshold to select features"
      ]
    },
    {
      "cell_type": "code",
      "metadata": {
        "id": "gUgcELwYU9o3",
        "colab_type": "code",
        "colab": {
          "base_uri": "https://localhost:8080/",
          "height": 119
        },
        "outputId": "b6074cc4-359a-480e-e1b9-ce1c3d056031"
      },
      "source": [
        "sfm = SelectFromModel(forest, threshold=0.1, prefit=True)\n",
        "X_selected = sfm.transform(X_train)\n",
        "print('Number of features that meet this threshold', 'criterion:', X_selected.shape[1])\n",
        "for f in range(X_selected.shape[1]):\n",
        "  print(\"%2d) %-*s %f\" % (f + 1, 30, feat_labels[indices[f]], importances[indices[f]]))"
      ],
      "execution_count": 4,
      "outputs": [
        {
          "output_type": "stream",
          "text": [
            "Number of features that meet this threshold criterion: 5\n",
            " 1) Proline                        0.188217\n",
            " 2) Flavanoids                     0.151884\n",
            " 3) Color intensity                0.150182\n",
            " 4) Alcohol                        0.137097\n",
            " 5) OD280/OD315 of diluted wines   0.126218\n"
          ],
          "name": "stdout"
        }
      ]
    },
    {
      "cell_type": "markdown",
      "metadata": {
        "id": "tYCZgWG6NhsY",
        "colab_type": "text"
      },
      "source": [
        "## Permutation"
      ]
    },
    {
      "cell_type": "code",
      "metadata": {
        "id": "B4b812IdOC6M",
        "colab_type": "code",
        "colab": {}
      },
      "source": [
        "import pandas as pd\n",
        "from sklearn.datasets import load_boston\n",
        "from sklearn.model_selection import train_test_split\n",
        "import numpy as np\n",
        "from sklearn.ensemble import RandomForestRegressor"
      ],
      "execution_count": 5,
      "outputs": []
    },
    {
      "cell_type": "code",
      "metadata": {
        "id": "LKFW_ZfnNqxT",
        "colab_type": "code",
        "colab": {}
      },
      "source": [
        "boston = load_boston()\n",
        "y = boston.target\n",
        "X = pd.DataFrame(boston.data, columns = boston.feature_names)\n",
        "np.random.seed(seed = 1)\n",
        "X['random'] = np.random.random(size = len(X))\n",
        "X_train, X_valid, y_train, y_valid = train_test_split(X, y, test_size = 0.8, random_state = 1)"
      ],
      "execution_count": 6,
      "outputs": []
    },
    {
      "cell_type": "code",
      "metadata": {
        "id": "H4pplWFQN3Qk",
        "colab_type": "code",
        "colab": {}
      },
      "source": [
        "rf = RandomForestRegressor(n_estimators = 100,n_jobs = -1, oob_score = True, bootstrap = True, random_state = 1)\n",
        "rf.fit(X_train, y_train)\n",
        "\n",
        "print('R^2 Training Score: {:.2f} \\nOOB Score: {:.2f} \\nR^2 Validation Score: {:.2f}'.format(rf.score(X_train, y_train), rf.oob_score_, rf.score(X_valid, y_valid)))"
      ],
      "execution_count": null,
      "outputs": []
    },
    {
      "cell_type": "code",
      "metadata": {
        "id": "UJp3SYpL-Jd0",
        "colab_type": "code",
        "colab": {}
      },
      "source": [
        "pip install rfpimp"
      ],
      "execution_count": null,
      "outputs": []
    },
    {
      "cell_type": "code",
      "metadata": {
        "id": "EsrXK_rwPdhz",
        "colab_type": "code",
        "colab": {}
      },
      "source": [
        "from sklearn.metrics import r2_score\n",
        "from rfpimp import permutation_importances\n",
        "\n",
        "def r2(rf, X_train, y_train):\n",
        "  return r2_score(y_train, rf.predict(X_train))\n",
        "\n",
        "perm_imp_rfpimp = permutation_importances(rf, X_train, y_train, r2)"
      ],
      "execution_count": null,
      "outputs": []
    },
    {
      "cell_type": "code",
      "metadata": {
        "id": "qNLFCwhARFOx",
        "colab_type": "code",
        "colab": {
          "base_uri": "https://localhost:8080/",
          "height": 289
        },
        "outputId": "db28ec36-88da-4695-f3c7-10f9b78613e0"
      },
      "source": [
        "perm_imp_rfpimp.Importance"
      ],
      "execution_count": 11,
      "outputs": [
        {
          "output_type": "execute_result",
          "data": {
            "text/plain": [
              "Feature\n",
              "RM         0.917140\n",
              "LSTAT      0.160363\n",
              "DIS        0.099580\n",
              "CRIM       0.020346\n",
              "PTRATIO    0.019622\n",
              "AGE        0.015224\n",
              "B          0.008256\n",
              "random     0.007056\n",
              "TAX        0.006548\n",
              "INDUS      0.004777\n",
              "NOX        0.003766\n",
              "RAD        0.002489\n",
              "ZN         0.001276\n",
              "CHAS       0.000052\n",
              "Name: Importance, dtype: float64"
            ]
          },
          "metadata": {
            "tags": []
          },
          "execution_count": 11
        }
      ]
    }
  ]
}